{
 "cells": [
  {
   "cell_type": "markdown",
   "id": "56961607",
   "metadata": {},
   "source": [
    "# Utility functions "
   ]
  },
  {
   "cell_type": "markdown",
   "id": "a8981e1b",
   "metadata": {},
   "source": [
    "### Function to change working directory"
   ]
  },
  {
   "cell_type": "code",
   "execution_count": 1,
   "id": "7a48c352",
   "metadata": {},
   "outputs": [],
   "source": [
    "def change_path(path):\n",
    "    if path:\n",
    "        directory_train = '/kaggle/input/spaceship-titanic/train.csv'\n",
    "        directory_test = '/kaggle/input/spaceship-titanic/test.csv'\n",
    "    else:\n",
    "        directory_train =  'train.csv'\n",
    "        directory_test = 'test.csv'\n",
    "    \n",
    "    return directory_train, directory_test"
   ]
  },
  {
   "cell_type": "markdown",
   "id": "04a778ca",
   "metadata": {},
   "source": [
    "### Function for data visualization"
   ]
  },
  {
   "cell_type": "code",
   "execution_count": 2,
   "id": "99b7798d",
   "metadata": {},
   "outputs": [],
   "source": [
    "import numpy as np\n",
    "import pandas as pd\n",
    "import pandas_profiling as pp\n",
    "import matplotlib.pyplot as plt\n",
    "import seaborn as sns"
   ]
  },
  {
   "cell_type": "code",
   "execution_count": 5,
   "id": "c7898976",
   "metadata": {},
   "outputs": [],
   "source": [
    "### Function to create pie chart\n",
    "\n",
    "def pie_chart(values, labels, explode, color_palette, title, figsize = (12,8),  startangle = 90):\n",
    "    plt.figure(figsize=figsize)\n",
    "    \n",
    "    explode_len = len(labels)\n",
    "    explode = explode_len*(float(explode),)\n",
    "    \n",
    "    pie = plt.pie(x = values, \n",
    "            labels=labels, \n",
    "            explode = explode, \n",
    "            startangle=startangle, \n",
    "            colors = sns.color_palette(color_palette),\n",
    "            shadow=True, autopct='%.0f%%')\n",
    "    plt.title(title)\n",
    "    plt.show()\n",
    "    \n",
    "    return pie\n",
    "    "
   ]
  },
  {
   "cell_type": "code",
   "execution_count": null,
   "id": "d803d29f",
   "metadata": {},
   "outputs": [],
   "source": []
  },
  {
   "cell_type": "code",
   "execution_count": null,
   "id": "459854d3",
   "metadata": {},
   "outputs": [],
   "source": []
  },
  {
   "cell_type": "code",
   "execution_count": null,
   "id": "c9dadcb2",
   "metadata": {},
   "outputs": [],
   "source": []
  },
  {
   "cell_type": "code",
   "execution_count": null,
   "id": "4b7e0a82",
   "metadata": {},
   "outputs": [],
   "source": []
  },
  {
   "cell_type": "code",
   "execution_count": null,
   "id": "48a087f1",
   "metadata": {},
   "outputs": [],
   "source": []
  }
 ],
 "metadata": {
  "kernelspec": {
   "display_name": "gpu_cuda",
   "language": "python",
   "name": "gpu_cuda"
  },
  "language_info": {
   "codemirror_mode": {
    "name": "ipython",
    "version": 3
   },
   "file_extension": ".py",
   "mimetype": "text/x-python",
   "name": "python",
   "nbconvert_exporter": "python",
   "pygments_lexer": "ipython3",
   "version": "3.7.13"
  }
 },
 "nbformat": 4,
 "nbformat_minor": 5
}
